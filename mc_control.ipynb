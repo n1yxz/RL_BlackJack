{
 "cells": [
  {
   "cell_type": "markdown",
   "id": "e710aa6e",
   "metadata": {},
   "source": [
    "# Monte‑Carlo Control – Modified Black Jack"
   ]
  },
  {
   "cell_type": "code",
   "execution_count": null,
   "id": "60540acc",
   "metadata": {},
   "outputs": [],
   "source": [
    "\n",
    "import numpy as np, matplotlib.pyplot as plt, os\n",
    "from tqdm import trange\n",
    "from env import BlackjackEnv\n",
    "\n",
    "np.random.seed(0)\n",
    "env = BlackjackEnv()\n"
   ]
  },
  {
   "cell_type": "markdown",
   "id": "3c0f11a2",
   "metadata": {},
   "source": [
    "### Helper functions"
   ]
  },
  {
   "cell_type": "code",
   "execution_count": null,
   "id": "dc6a1d86",
   "metadata": {},
   "outputs": [],
   "source": [
    "\n",
    "from collections import defaultdict\n",
    "\n",
    "def epsilon_greedy(Q, state, N_state, N0=100):\n",
    "    eps = N0 / (N0 + N_state[state])\n",
    "    if np.random.rand() < eps:\n",
    "        return np.random.randint(2)\n",
    "    q_vals = Q[state]\n",
    "    max_q = np.max(q_vals)\n",
    "    return np.random.choice(np.flatnonzero(q_vals == max_q))\n",
    "\n",
    "def state_key(state):\n",
    "    return tuple(state)  # simple hashable key\n"
   ]
  },
  {
   "cell_type": "markdown",
   "id": "20567940",
   "metadata": {},
   "source": [
    "### Training loop"
   ]
  },
  {
   "cell_type": "code",
   "execution_count": null,
   "id": "b198ddd3",
   "metadata": {},
   "outputs": [],
   "source": [
    "\n",
    "num_episodes = 500_000   # adjust if runtime is tight\n",
    "Q = defaultdict(lambda: np.zeros(2))\n",
    "N_sa = defaultdict(int)\n",
    "N_s = defaultdict(int)\n",
    "\n",
    "for ep in trange(num_episodes):\n",
    "    episode = []\n",
    "    s = env.reset()\n",
    "    done = False\n",
    "    while not done:\n",
    "        a = epsilon_greedy(Q, state_key(s), N_s)\n",
    "        s_next, r, done = env.step(a)\n",
    "        episode.append((s, a, r))\n",
    "        if done:\n",
    "            break\n",
    "        s = s_next\n",
    "\n",
    "    G = episode[-1][2]          # undiscounted terminal reward\n",
    "    visited = set()\n",
    "    for s,a,_ in episode:\n",
    "        k = (state_key(s), a)\n",
    "        if k in visited:\n",
    "            continue\n",
    "        visited.add(k)\n",
    "        N_sa[k] += 1\n",
    "        N_s[state_key(s)] += 1\n",
    "        alpha = 1.0 / N_sa[k]\n",
    "        Q[state_key(s)][a] += alpha * (G - Q[state_key(s)][a])\n"
   ]
  },
  {
   "cell_type": "markdown",
   "id": "691de9d2",
   "metadata": {},
   "source": [
    "### Save **Q★** and Plot **V★**"
   ]
  },
  {
   "cell_type": "code",
   "execution_count": null,
   "id": "215191d7",
   "metadata": {},
   "outputs": [],
   "source": [
    "\n",
    "import numpy as np, matplotlib.pyplot as plt, os, math, itertools\n",
    "import pickle, pathlib\n",
    "\n",
    "# Save optimal Q as pickle (dictionary)\n",
    "with open('mc_Q_star.pkl', 'wb') as f:\n",
    "    pickle.dump(dict(Q), f)\n",
    "\n",
    "# Build regular grid for plotting\n",
    "dealer_vals = range(1, 14)     # 1–13\n",
    "player_vals = range(1, 22)     # 1–21\n",
    "X, Y = np.meshgrid(dealer_vals, player_vals)\n",
    "Z = np.zeros_like(X, dtype=float)\n",
    "\n",
    "for i,p_sum in enumerate(player_vals):\n",
    "    for j,d_face in enumerate(dealer_vals):\n",
    "        q_vals = Q.get((d_face, p_sum), np.zeros(2))\n",
    "        Z[i,j] = np.max(q_vals)\n",
    "\n",
    "from mpl_toolkits.mplot3d import Axes3D\n",
    "fig = plt.figure(figsize=(8,6))\n",
    "ax = fig.add_subplot(111, projection='3d')\n",
    "ax.plot_surface(X, Y, Z)\n",
    "ax.set_xlabel('Dealer showing')\n",
    "ax.set_ylabel('Player sum')\n",
    "ax.set_zlabel('V*')\n",
    "plt.title('Optimal state‑value surface')\n",
    "pathlib.Path('plots').mkdir(exist_ok=True)\n",
    "plt.savefig('plots/v_star.png')\n",
    "plt.show()\n"
   ]
  }
 ],
 "metadata": {},
 "nbformat": 4,
 "nbformat_minor": 5
}
